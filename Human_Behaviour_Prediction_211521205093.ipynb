{
  "nbformat": 4,
  "nbformat_minor": 0,
  "metadata": {
    "colab": {
      "provenance": [],
      "authorship_tag": "ABX9TyPiZ+XKswKlnn7b/XqvMiZy",
      "include_colab_link": true
    },
    "kernelspec": {
      "name": "python3",
      "display_name": "Python 3"
    },
    "language_info": {
      "name": "python"
    }
  },
  "cells": [
    {
      "cell_type": "markdown",
      "metadata": {
        "id": "view-in-github",
        "colab_type": "text"
      },
      "source": [
        "<a href=\"https://colab.research.google.com/github/nigeetha/TNSDC_GenerativeAI/blob/main/Human_Behaviour_Prediction_211521205093.ipynb\" target=\"_parent\"><img src=\"https://colab.research.google.com/assets/colab-badge.svg\" alt=\"Open In Colab\"/></a>"
      ]
    },
    {
      "cell_type": "code",
      "execution_count": 1,
      "metadata": {
        "colab": {
          "base_uri": "https://localhost:8080/"
        },
        "id": "lJXqtBPtuiej",
        "outputId": "57e55504-4610-42cc-f4bf-efa8a397f9d1"
      },
      "outputs": [
        {
          "output_type": "stream",
          "name": "stdout",
          "text": [
            "Epoch 1/20\n",
            "3/3 [==============================] - 2s 181ms/step - loss: 0.7255 - accuracy: 0.5375 - val_loss: 0.6985 - val_accuracy: 0.5000\n",
            "Epoch 2/20\n",
            "3/3 [==============================] - 0s 29ms/step - loss: 0.6806 - accuracy: 0.5750 - val_loss: 0.7572 - val_accuracy: 0.4000\n",
            "Epoch 3/20\n",
            "3/3 [==============================] - 0s 28ms/step - loss: 0.6810 - accuracy: 0.5250 - val_loss: 0.7560 - val_accuracy: 0.4000\n",
            "Epoch 4/20\n",
            "3/3 [==============================] - 0s 36ms/step - loss: 0.6576 - accuracy: 0.5250 - val_loss: 0.7194 - val_accuracy: 0.4000\n",
            "Epoch 5/20\n",
            "3/3 [==============================] - 0s 21ms/step - loss: 0.6476 - accuracy: 0.7000 - val_loss: 0.6954 - val_accuracy: 0.5000\n",
            "Epoch 6/20\n",
            "3/3 [==============================] - 0s 26ms/step - loss: 0.6454 - accuracy: 0.7250 - val_loss: 0.6943 - val_accuracy: 0.5000\n",
            "Epoch 7/20\n",
            "3/3 [==============================] - 0s 28ms/step - loss: 0.6333 - accuracy: 0.7500 - val_loss: 0.7078 - val_accuracy: 0.5000\n",
            "Epoch 8/20\n",
            "3/3 [==============================] - 0s 20ms/step - loss: 0.6158 - accuracy: 0.7875 - val_loss: 0.7225 - val_accuracy: 0.5000\n",
            "Epoch 9/20\n",
            "3/3 [==============================] - 0s 34ms/step - loss: 0.6043 - accuracy: 0.7375 - val_loss: 0.7427 - val_accuracy: 0.4500\n",
            "Epoch 10/20\n",
            "3/3 [==============================] - 0s 22ms/step - loss: 0.5990 - accuracy: 0.8000 - val_loss: 0.7552 - val_accuracy: 0.4000\n",
            "Epoch 11/20\n",
            "3/3 [==============================] - 0s 32ms/step - loss: 0.5873 - accuracy: 0.7750 - val_loss: 0.7507 - val_accuracy: 0.4500\n",
            "Epoch 12/20\n",
            "3/3 [==============================] - 0s 35ms/step - loss: 0.5706 - accuracy: 0.8000 - val_loss: 0.7339 - val_accuracy: 0.5000\n",
            "Epoch 13/20\n",
            "3/3 [==============================] - 0s 50ms/step - loss: 0.5558 - accuracy: 0.8250 - val_loss: 0.7243 - val_accuracy: 0.4000\n",
            "Epoch 14/20\n",
            "3/3 [==============================] - 0s 23ms/step - loss: 0.5456 - accuracy: 0.8250 - val_loss: 0.7264 - val_accuracy: 0.4500\n",
            "Epoch 15/20\n",
            "3/3 [==============================] - 0s 31ms/step - loss: 0.5297 - accuracy: 0.8125 - val_loss: 0.7365 - val_accuracy: 0.5500\n",
            "Epoch 16/20\n",
            "3/3 [==============================] - 0s 29ms/step - loss: 0.5118 - accuracy: 0.9000 - val_loss: 0.7578 - val_accuracy: 0.5500\n",
            "Epoch 17/20\n",
            "3/3 [==============================] - 0s 35ms/step - loss: 0.4986 - accuracy: 0.9000 - val_loss: 0.7645 - val_accuracy: 0.5500\n",
            "Epoch 18/20\n",
            "3/3 [==============================] - 0s 30ms/step - loss: 0.4809 - accuracy: 0.9375 - val_loss: 0.7592 - val_accuracy: 0.5500\n",
            "Epoch 19/20\n",
            "3/3 [==============================] - 0s 30ms/step - loss: 0.4633 - accuracy: 0.9000 - val_loss: 0.7525 - val_accuracy: 0.5000\n",
            "Epoch 20/20\n",
            "3/3 [==============================] - 0s 25ms/step - loss: 0.4476 - accuracy: 0.9125 - val_loss: 0.7543 - val_accuracy: 0.5000\n",
            "1/1 [==============================] - 0s 27ms/step - loss: 0.7543 - accuracy: 0.5000\n",
            "Test Loss: 0.7542611360549927, Test Accuracy: 0.5\n"
          ]
        }
      ],
      "source": [
        "# Import necessary libraries\n",
        "import numpy as np\n",
        "import networkx as nx\n",
        "import tensorflow as tf\n",
        "from sklearn.model_selection import train_test_split\n",
        "from tensorflow.keras import layers, models\n",
        "\n",
        "# Step 1: Prepare dataset and create graph\n",
        "# Assuming you have a dataset containing social network data\n",
        "# You would need to load the data and create a graph representation\n",
        "# For simplicity, let's create a random graph\n",
        "G = nx.erdos_renyi_graph(n=100, p=0.1)\n",
        "\n",
        "# Step 2: Generate node embeddings using graph embedding techniques\n",
        "# You would typically use a library like node2vec or GraphSAGE for this\n",
        "# For simplicity, let's use a random embedding for each node\n",
        "node_embeddings = {node: np.random.rand(64) for node in G.nodes()}\n",
        "\n",
        "# Step 3: Prepare data for training\n",
        "# You would need labeled data for training the model\n",
        "# For simplicity, let's generate random labels\n",
        "labels = {node: np.random.randint(2) for node in G.nodes()}\n",
        "nodes = list(G.nodes())\n",
        "X = np.array([node_embeddings[node] for node in nodes])\n",
        "y = np.array([labels[node] for node in nodes])\n",
        "\n",
        "# Step 4: Split data into training and testing sets\n",
        "X_train, X_test, y_train, y_test = train_test_split(X, y, test_size=0.2, random_state=42)\n",
        "\n",
        "# Step 5: Define deep learning model\n",
        "model = models.Sequential([\n",
        "    layers.Dense(128, activation='relu', input_shape=(64,)),\n",
        "    layers.Dense(64, activation='relu'),\n",
        "    layers.Dense(1, activation='sigmoid')\n",
        "])\n",
        "\n",
        "# Step 6: Compile and train the model\n",
        "model.compile(optimizer='adam', loss='binary_crossentropy', metrics=['accuracy'])\n",
        "model.fit(X_train, y_train, epochs=20, batch_size=32, validation_data=(X_test, y_test))\n",
        "\n",
        "# Step 7: Evaluate the model\n",
        "loss, accuracy = model.evaluate(X_test, y_test)\n",
        "print(f'Test Loss: {loss}, Test Accuracy: {accuracy}')\n"
      ]
    },
    {
      "cell_type": "code",
      "source": [],
      "metadata": {
        "id": "VQL9qMH2u0B3"
      },
      "execution_count": null,
      "outputs": []
    }
  ]
}